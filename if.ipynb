{
 "cells": [
  {
   "cell_type": "markdown",
   "metadata": {},
   "source": [
    "El condicional mas basico es la condicional if\n",
    "\n",
    "<img src=\"if.png\">\n",
    "\n",
    "Condicional= Decision\n",
    "\n",
    "En palabras sencillas es tomar una decision y saber que pasara si eliges por ejemplo entrar o no a clases "
   ]
  },
  {
   "cell_type": "markdown",
   "metadata": {},
   "source": [
    "1. Crea un diagrama en el que decidas si entras o no a clases <br>\n",
    "<img src=\"Diagrama sin título.drawio.png\">"
   ]
  },
  {
   "cell_type": "markdown",
   "metadata": {},
   "source": [
    "2. Crea un programa que diga si debe de tomar coca-cola fria o no dependiendo de la temperatura, es decir, le preguntas si tiene calor, si la respuesta es si, debe de tomar coca-cola fria\n",
    "en caso de que no solo debe de tomar coca-cola\n"
   ]
  },
  {
   "cell_type": "code",
   "execution_count": 15,
   "metadata": {},
   "outputs": [
    {
     "name": "stdout",
     "output_type": "stream",
     "text": [
      "toma coca-cola fria\n"
     ]
    }
   ],
   "source": [
    "a=input('tienes calor?')\n",
    "\n",
    "if a=='si':\n",
    " print('toma coca-cola fria')\n",
    "else :\n",
    " print('toma coca-cola')"
   ]
  },
  {
   "cell_type": "markdown",
   "metadata": {},
   "source": [
    "3. Crea un programa que diga si le alcanza para el camion o no, sabiendo que el camion cuesta 12 pesos "
   ]
  },
  {
   "cell_type": "code",
   "execution_count": 14,
   "metadata": {},
   "outputs": [
    {
     "name": "stdout",
     "output_type": "stream",
     "text": [
      "te alcanza para el camion\n"
     ]
    }
   ],
   "source": [
    "a=int(input('cuanto dinero tienes?'))\n",
    "if a>=12:\n",
    "    print(\"te alcanza para el camion\")\n",
    "else:\n",
    "    print('mejor empieza a caminar')"
   ]
  },
  {
   "cell_type": "markdown",
   "metadata": {},
   "source": [
    "4. Crea un programa que diga si eres mayor o menor de edad "
   ]
  },
  {
   "cell_type": "code",
   "execution_count": 16,
   "metadata": {},
   "outputs": [
    {
     "name": "stdout",
     "output_type": "stream",
     "text": [
      "lastima estas chiquito\n"
     ]
    }
   ],
   "source": [
    "a=int(input('que edad tienes?'))\n",
    "if a>=18:\n",
    "    print('eres mayor de edad, felicidades')\n",
    "else:\n",
    "    print('lastima estas c')"
   ]
  },
  {
   "cell_type": "markdown",
   "metadata": {},
   "source": [
    "5. Agrega un programa con ifs anidados"
   ]
  },
  {
   "cell_type": "code",
   "execution_count": 32,
   "metadata": {},
   "outputs": [
    {
     "name": "stdout",
     "output_type": "stream",
     "text": [
      "tu contraseña es muy corta\n",
      "tu contraseña es correcta\n"
     ]
    }
   ],
   "source": [
    "creatucontraseña=input('crea tu contraseña')\n",
    "if (len(creatucontraseña)<= 8):\n",
    "    print('tu contraseña es muy corta')\n",
    "    if creatucontraseña == 12345678:\n",
    "        print('tu contraseña es incorrecta')\n",
    "    else:\n",
    "        print('tu contraseña es correcta')\n",
    "else:\n",
    "    print('Tu contraseña es muy corta e insegura.')\n",
    "    if (creatucontraseña != 12345678):\n",
    "        print(\"Además, es incorrecta (por supuesto).\")"
   ]
  }
 ],
 "metadata": {
  "kernelspec": {
   "display_name": "Python 3",
   "language": "python",
   "name": "python3"
  },
  "language_info": {
   "codemirror_mode": {
    "name": "ipython",
    "version": 3
   },
   "file_extension": ".py",
   "mimetype": "text/x-python",
   "name": "python",
   "nbconvert_exporter": "python",
   "pygments_lexer": "ipython3",
   "version": "3.11.3"
  }
 },
 "nbformat": 4,
 "nbformat_minor": 2
}
